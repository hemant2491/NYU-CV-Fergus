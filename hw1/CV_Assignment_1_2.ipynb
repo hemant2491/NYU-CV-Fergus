{
  "nbformat": 4,
  "nbformat_minor": 0,
  "metadata": {
    "colab": {
      "provenance": [],
      "collapsed_sections": []
    },
    "kernelspec": {
      "name": "python3",
      "display_name": "Python 3"
    }
  },
  "cells": [
    {
      "cell_type": "markdown",
      "metadata": {
        "id": "vN5lM2csj9v7"
      },
      "source": [
        "# Computer Vision Assignment 1 Part 2\n",
        "---\n",
        "\n",
        "Semester: **Fall 2022**\n",
        "\n",
        "Due date: **September 29th 2022, 11.59PM EST.**\n",
        "\n",
        "## Introduction\n",
        "---\n",
        "This assignment requires you to participate in a Kaggle competition with the rest of the class on the [German Traffic Sign Recognition Benchmark](http://benchmark.ini.rub.de/?section=gtsrb). The objective is to produce a model that gives the highest possible accuracy on the test portion of this dataset. You can register for the competition using the private link: https://www.kaggle.com/c/nyu-computer-vision-csci-ga2271-2022/overview.\n",
        "\n",
        "Skeleton code is provided in the colab below. This contains code for training a simple default model and evaluating it on the test set. The evaluation script produces a file `gtsrb_kaggle.csv` that lists the IDs of the test set images, along with their predicted label. This file should be uploaded to the Kaggle webpage, which will then produce a test accuracy score. \n",
        "\n",
        "Your goal is to implement a new model architecture that improves upon the baseline performance. You are free to implement any approach covered in class or from research papers. This part will count for 50% of the overall grade for assignment 1. This Grading will depend on your Kaggle performance and rank, as well as novelty of the architecture.  \n",
        "\n",
        "## Rules\n",
        "---\n",
        "You should make a copy of this Colab (`File->Save a copy in Drive`). Please start the assignment early and don’t be afraid to ask for help from either the TAs or myself. You are allowed to collaborate with other students in terms discussing ideas and possible solutions. However you code up the solution yourself, i.e. you must write your own code. Copying your friends code and just changing all the names of the variables is NOT ALLOWED! You are not allowed to use solutions from similar assignments in courses from other institutions, or those found elsewhere on the web.\n",
        "\n",
        "Your solutions should be submitted via the Brightspace system. This should include a brief description (in the Colab) explaining the model architectures you explored, citing any relevant papers or techniques that you used. You should also include convergence plots of training accuracy vs epoch for relevant models. \n",
        "\n",
        "## Important Details\n",
        "---\n",
        "• You are only allowed 8 submissions to the Kaggle evaluation server per day. This is to prevent over-fitting on the test dataset. So be sure to start the assignment early!\n",
        "\n",
        "• You are NOT ALLOWED to use the test set labels during training in any way. Doing so will be regarded as cheating and penalized accordingly.\n",
        "\n",
        "• The evaluation metric is accuracy, i.e. the fraction of test set examples where the predicted label agrees with the ground truth label.\n",
        "\n",
        "• You should be able to achieve a test accuracy of at least 95% \n",
        "\n",
        "• **Extra important:** Please use your NYU NetID as your team name on Kaggle, so the TAs can figure out which user you are on the leaderboard. \n",
        "\n",
        "# Dataset Preparation\n",
        "___\n",
        "\n",
        "1.  Download `dataset.zip` from the course website to your local machine.\n",
        "2.  Unzip the file. You should see a `dataset` directory with three subfolders: `training`, `validation`, and `testing`. \n",
        "3.  Go to Google Drive (on your NYU account) and make a new directory (say `cv_kaggle_assignment`).\n",
        "4.  Upload each of the three subfolders to it. \n",
        "5.  Run the code block below. It will ask for permission to mount your Google Drive (NYU account) so this colab can access it. Paste the authorization code into the box as requested. \n"
      ]
    },
    {
      "cell_type": "code",
      "metadata": {
        "id": "o0aPnIKXpWbN",
        "colab": {
          "base_uri": "https://localhost:8080/"
        },
        "outputId": "ad368ad1-2add-4059-ae87-719d22ae207a"
      },
      "source": [
        "# Load the Drive helper and mount\n",
        "from google.colab import drive\n",
        "drive.mount('/content/drive')\n",
        "%cd  /content/drive/'My Drive'/cv_kaggle_assignment/"
      ],
      "execution_count": null,
      "outputs": [
        {
          "output_type": "stream",
          "name": "stdout",
          "text": [
            "Drive already mounted at /content/drive; to attempt to forcibly remount, call drive.mount(\"/content/drive\", force_remount=True).\n",
            "/content/drive/My Drive/cv_kaggle_assignment\n"
          ]
        }
      ]
    },
    {
      "cell_type": "markdown",
      "metadata": {
        "id": "_6jVfIVtrn5u"
      },
      "source": [
        "# Dataloader"
      ]
    },
    {
      "cell_type": "code",
      "metadata": {
        "id": "z21UKj_bT--_"
      },
      "source": [
        "import torch\n",
        "from torch.utils.data import Dataset\n",
        "import torch.nn as nn\n",
        "import torch.nn.functional as F\n",
        "import torch.optim as optim\n",
        "from torchvision import datasets, transforms\n",
        "\n",
        "batch_size = 32\n",
        "momentum = 0.9\n",
        "lr = 0.01\n",
        "epochs = 5\n",
        "log_interval = 100\n",
        "\n",
        "class MyDataset(Dataset):\n",
        "\n",
        "    def __init__(self, X_path=\"X.pt\", y_path=\"y.pt\"):\n",
        "\n",
        "        self.X = torch.load(X_path).squeeze(1)\n",
        "        self.y = torch.load(y_path).squeeze(1)\n",
        "    \n",
        "    def __len__(self):\n",
        "        return self.X.size(0)\n",
        "\n",
        "    def __getitem__(self, idx):\n",
        "        return self.X[idx], self.y[idx]\n",
        "\n",
        "train_dataset = MyDataset(X_path=\"train/X.pt\", y_path=\"train/y.pt\")\n",
        "val_dataset = MyDataset(X_path=\"validation/X.pt\", y_path=\"validation/y.pt\")\n",
        "\n",
        "train_loader = torch.utils.data.DataLoader(\n",
        "    train_dataset, batch_size=batch_size, shuffle=True, num_workers=1)\n",
        "\n",
        "val_loader = torch.utils.data.DataLoader(\n",
        "    val_dataset, batch_size=batch_size, shuffle=True, num_workers=1)"
      ],
      "execution_count": null,
      "outputs": []
    },
    {
      "cell_type": "markdown",
      "metadata": {
        "id": "Qd6W0pQRvZKO"
      },
      "source": [
        "# Model"
      ]
    },
    {
      "cell_type": "code",
      "metadata": {
        "id": "zeev4SoMvazV"
      },
      "source": [
        "import torch\n",
        "import torch.nn as nn\n",
        "import torch.nn.functional as F\n",
        "\n",
        "nclasses = 43 # GTSRB has 43 classes\n",
        "\n",
        "class Net(nn.Module):\n",
        "    def __init__(self):\n",
        "        super(Net, self).__init__()\n",
        "        self.conv1 = nn.Conv2d(3, 10, kernel_size=5)\n",
        "        self.conv2 = nn.Conv2d(10, 20, kernel_size=5)\n",
        "        self.conv2_drop = nn.Dropout2d()\n",
        "        self.fc1 = nn.Linear(500, 50)\n",
        "        self.fc2 = nn.Linear(50, nclasses)\n",
        "\n",
        "    def forward(self, x):\n",
        "        x = F.relu(F.max_pool2d(self.conv1(x), 2))\n",
        "        x = F.relu(F.max_pool2d(self.conv2_drop(self.conv2(x)), 2))\n",
        "        x = x.view(-1, 500)\n",
        "        x = F.relu(self.fc1(x))\n",
        "        x = F.dropout(x, training=self.training)\n",
        "        x = self.fc2(x)\n",
        "        return F.log_softmax(x,dim=1)\n"
      ],
      "execution_count": null,
      "outputs": []
    },
    {
      "cell_type": "markdown",
      "metadata": {
        "id": "Ty9TAvrdvf8C"
      },
      "source": [
        "# Training"
      ]
    },
    {
      "cell_type": "code",
      "metadata": {
        "id": "_A5-OCgBvhXv",
        "colab": {
          "base_uri": "https://localhost:8080/"
        },
        "outputId": "17710c0b-86e5-41e4-b8cc-d3e4de1fa52f"
      },
      "source": [
        "model = Net()\n",
        "\n",
        "optimizer = optim.SGD(model.parameters(), lr=lr, momentum=momentum)\n",
        "\n",
        "def train(epoch):\n",
        "    model.train()\n",
        "    for batch_idx, (data, target) in enumerate(train_loader):\n",
        "        optimizer.zero_grad()\n",
        "        output = model(data)\n",
        "        loss = F.nll_loss(output, target)\n",
        "        loss.backward()\n",
        "        optimizer.step()\n",
        "        if batch_idx % log_interval == 0:\n",
        "            print('Train Epoch: {} [{}/{} ({:.0f}%)]\\tLoss: {:.6f}'.format(\n",
        "                epoch, batch_idx * len(data), len(train_loader.dataset),\n",
        "                100. * batch_idx / len(train_loader), loss.item()))\n",
        "\n",
        "def validation():\n",
        "    model.eval()\n",
        "    validation_loss = 0\n",
        "    correct = 0\n",
        "    for data, target in val_loader:\n",
        "        output = model(data)\n",
        "        validation_loss += F.nll_loss(output, target, reduction=\"sum\").item() # sum up batch loss\n",
        "        pred = output.data.max(1, keepdim=True)[1] # get the index of the max log-probability\n",
        "        correct += pred.eq(target.data.view_as(pred)).cpu().sum()\n",
        "\n",
        "    validation_loss /= len(val_loader.dataset)\n",
        "    print('\\nValidation set: Average loss: {:.4f}, Accuracy: {}/{} ({:.0f}%)\\n'.format(\n",
        "        validation_loss, correct, len(val_loader.dataset),\n",
        "        100. * correct / len(val_loader.dataset)))\n",
        "\n",
        "\n",
        "for epoch in range(1, epochs + 1):\n",
        "    train(epoch)\n",
        "    validation()\n",
        "    model_file = 'model_' + str(epoch) + '.pth'\n",
        "    torch.save(model.state_dict(), model_file)\n",
        "    print('\\nSaved model to ' + model_file + '.')\n"
      ],
      "execution_count": null,
      "outputs": [
        {
          "output_type": "stream",
          "name": "stdout",
          "text": [
            "Train Epoch: 1 [0/35339 (0%)]\tLoss: 3.700385\n",
            "Train Epoch: 1 [3200/35339 (9%)]\tLoss: 3.499464\n",
            "Train Epoch: 1 [6400/35339 (18%)]\tLoss: 2.761187\n",
            "Train Epoch: 1 [9600/35339 (27%)]\tLoss: 2.244276\n",
            "Train Epoch: 1 [12800/35339 (36%)]\tLoss: 2.386545\n",
            "Train Epoch: 1 [16000/35339 (45%)]\tLoss: 1.374744\n",
            "Train Epoch: 1 [19200/35339 (54%)]\tLoss: 1.531515\n",
            "Train Epoch: 1 [22400/35339 (63%)]\tLoss: 1.561582\n",
            "Train Epoch: 1 [25600/35339 (72%)]\tLoss: 1.612703\n",
            "Train Epoch: 1 [28800/35339 (81%)]\tLoss: 1.026858\n",
            "Train Epoch: 1 [32000/35339 (90%)]\tLoss: 0.862574\n",
            "Train Epoch: 1 [35200/35339 (100%)]\tLoss: 1.045398\n",
            "\n",
            "Validation set: Average loss: 1.2796, Accuracy: 2443/3870 (63%)\n",
            "\n",
            "\n",
            "Saved model to model_1.pth.\n",
            "Train Epoch: 2 [0/35339 (0%)]\tLoss: 1.659590\n",
            "Train Epoch: 2 [3200/35339 (9%)]\tLoss: 1.226477\n",
            "Train Epoch: 2 [6400/35339 (18%)]\tLoss: 1.418048\n",
            "Train Epoch: 2 [9600/35339 (27%)]\tLoss: 0.950679\n",
            "Train Epoch: 2 [12800/35339 (36%)]\tLoss: 0.974643\n",
            "Train Epoch: 2 [16000/35339 (45%)]\tLoss: 1.257427\n",
            "Train Epoch: 2 [19200/35339 (54%)]\tLoss: 1.261522\n",
            "Train Epoch: 2 [22400/35339 (63%)]\tLoss: 0.644295\n",
            "Train Epoch: 2 [25600/35339 (72%)]\tLoss: 1.175597\n",
            "Train Epoch: 2 [28800/35339 (81%)]\tLoss: 1.014325\n",
            "Train Epoch: 2 [32000/35339 (90%)]\tLoss: 1.203350\n",
            "Train Epoch: 2 [35200/35339 (100%)]\tLoss: 2.026593\n",
            "\n",
            "Validation set: Average loss: 1.0135, Accuracy: 2668/3870 (69%)\n",
            "\n",
            "\n",
            "Saved model to model_2.pth.\n",
            "Train Epoch: 3 [0/35339 (0%)]\tLoss: 1.151944\n",
            "Train Epoch: 3 [3200/35339 (9%)]\tLoss: 1.153553\n",
            "Train Epoch: 3 [6400/35339 (18%)]\tLoss: 0.717351\n",
            "Train Epoch: 3 [9600/35339 (27%)]\tLoss: 1.382717\n",
            "Train Epoch: 3 [12800/35339 (36%)]\tLoss: 1.614424\n",
            "Train Epoch: 3 [16000/35339 (45%)]\tLoss: 1.461639\n",
            "Train Epoch: 3 [19200/35339 (54%)]\tLoss: 1.345072\n",
            "Train Epoch: 3 [22400/35339 (63%)]\tLoss: 1.072827\n",
            "Train Epoch: 3 [25600/35339 (72%)]\tLoss: 1.192400\n",
            "Train Epoch: 3 [28800/35339 (81%)]\tLoss: 1.288088\n",
            "Train Epoch: 3 [32000/35339 (90%)]\tLoss: 1.396114\n",
            "Train Epoch: 3 [35200/35339 (100%)]\tLoss: 2.091974\n",
            "\n",
            "Validation set: Average loss: 1.2594, Accuracy: 2418/3870 (62%)\n",
            "\n",
            "\n",
            "Saved model to model_3.pth.\n",
            "Train Epoch: 4 [0/35339 (0%)]\tLoss: 1.136254\n",
            "Train Epoch: 4 [3200/35339 (9%)]\tLoss: 1.110779\n",
            "Train Epoch: 4 [6400/35339 (18%)]\tLoss: 1.468262\n",
            "Train Epoch: 4 [9600/35339 (27%)]\tLoss: 0.476632\n",
            "Train Epoch: 4 [12800/35339 (36%)]\tLoss: 0.886730\n",
            "Train Epoch: 4 [16000/35339 (45%)]\tLoss: 1.346031\n",
            "Train Epoch: 4 [19200/35339 (54%)]\tLoss: 0.766195\n",
            "Train Epoch: 4 [22400/35339 (63%)]\tLoss: 1.195125\n",
            "Train Epoch: 4 [25600/35339 (72%)]\tLoss: 0.516526\n",
            "Train Epoch: 4 [28800/35339 (81%)]\tLoss: 1.329142\n",
            "Train Epoch: 4 [32000/35339 (90%)]\tLoss: 1.793469\n",
            "Train Epoch: 4 [35200/35339 (100%)]\tLoss: 1.462084\n",
            "\n",
            "Validation set: Average loss: 1.1546, Accuracy: 2666/3870 (69%)\n",
            "\n",
            "\n",
            "Saved model to model_4.pth.\n",
            "Train Epoch: 5 [0/35339 (0%)]\tLoss: 1.147929\n",
            "Train Epoch: 5 [3200/35339 (9%)]\tLoss: 0.798845\n",
            "Train Epoch: 5 [6400/35339 (18%)]\tLoss: 0.795640\n",
            "Train Epoch: 5 [9600/35339 (27%)]\tLoss: 0.675914\n",
            "Train Epoch: 5 [12800/35339 (36%)]\tLoss: 1.057491\n",
            "Train Epoch: 5 [16000/35339 (45%)]\tLoss: 0.830380\n",
            "Train Epoch: 5 [19200/35339 (54%)]\tLoss: 0.790883\n",
            "Train Epoch: 5 [22400/35339 (63%)]\tLoss: 1.034143\n",
            "Train Epoch: 5 [25600/35339 (72%)]\tLoss: 0.641281\n",
            "Train Epoch: 5 [28800/35339 (81%)]\tLoss: 0.946394\n",
            "Train Epoch: 5 [32000/35339 (90%)]\tLoss: 1.219211\n",
            "Train Epoch: 5 [35200/35339 (100%)]\tLoss: 0.817741\n",
            "\n",
            "Validation set: Average loss: 0.9896, Accuracy: 2722/3870 (70%)\n",
            "\n",
            "\n",
            "Saved model to model_5.pth.\n"
          ]
        }
      ]
    },
    {
      "cell_type": "markdown",
      "metadata": {
        "id": "eVN1f1p7w59X"
      },
      "source": [
        "# Evaluate and Submit to Kaggle\n",
        "\n"
      ]
    },
    {
      "cell_type": "code",
      "metadata": {
        "id": "_BM5qP64w5zB",
        "colab": {
          "base_uri": "https://localhost:8080/"
        },
        "outputId": "27830276-9212-40c0-f145-0f45da2dd023"
      },
      "source": [
        "import pickle\n",
        "import pandas as pd\n",
        "\n",
        "outfile = 'gtsrb_kaggle.csv'\n",
        "\n",
        "output_file = open(outfile, \"w\")\n",
        "dataframe_dict = {\"Filename\" : [], \"ClassId\": []}\n",
        "\n",
        "test_data = torch.load('testing/test.pt')\n",
        "file_ids = pickle.load(open('testing/file_ids.pkl', 'rb'))\n",
        "model.eval() # Don't forget to put your model on eval mode !\n",
        "\n",
        "for i, data in enumerate(test_data):\n",
        "    data = data.unsqueeze(0)\n",
        "\n",
        "    output = model(data)\n",
        "    pred = output.data.max(1, keepdim=True)[1].item()\n",
        "    file_id = file_ids[i][0:5]\n",
        "    dataframe_dict['Filename'].append(file_id)\n",
        "    dataframe_dict['ClassId'].append(pred)\n",
        "\n",
        "df = pd.DataFrame(data=dataframe_dict)\n",
        "df.to_csv(outfile, index=False)\n",
        "print(\"Written to csv file {}\".format(outfile))"
      ],
      "execution_count": null,
      "outputs": [
        {
          "output_type": "stream",
          "name": "stdout",
          "text": [
            "Written to csv file gtsrb_kaggle.csv\n"
          ]
        }
      ]
    },
    {
      "cell_type": "markdown",
      "metadata": {
        "id": "BhSl_4kn6sox"
      },
      "source": [
        "# Submitting to Kaggle\n",
        "\n",
        "Now download the CSV file `grtsrb_kaggle.csv` from your Google drive and then submit it to Kaggle to check the performance of your model.\n",
        "\n",
        "**Extra important:** Please use your NYU NetID as your team name on Kaggle, or your submissions will not be evaluated.  \n",
        "You can rename your team easily from the Team tab: https://www.kaggle.com/competitions/nyu-computer-vision-csci-ga2271-2022/team."
      ]
    }
  ]
}